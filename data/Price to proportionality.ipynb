{
 "cells": [
  {
   "cell_type": "code",
   "execution_count": 2,
   "metadata": {},
   "outputs": [],
   "source": [
    "from sklearn.preprocessing import MinMaxScaler\n",
    "import pandas as pd\n",
    "import numpy as np"
   ]
  },
  {
   "cell_type": "code",
   "execution_count": 50,
   "metadata": {},
   "outputs": [],
   "source": [
    "names = ['EURUSD', 'EURJPY', 'EURCHF', 'CHFJPY', 'USDCHF', 'USDCAD']\n",
    "values = [(1.08, 1.165), (114.6, 128.8), (1.07, 1.16), (105.3, 113.3), (0.96, 1.03), (1.287, 1.375)]\n",
    "chiffres = [.00001, .001, .00001, .001, 0.00001, .00001]\n",
    "actions = ['Open', 'High', 'Low', 'Close']"
   ]
  },
  {
   "cell_type": "code",
   "execution_count": 14,
   "metadata": {},
   "outputs": [
    {
     "name": "stdout",
     "output_type": "stream",
     "text": [
      "for EURUSD :  min = 1.0879, max = 1.15697\n",
      "Suggestion = 1.0802255555555555, max = 1.1646444444444446\n",
      "for EURJPY :  min = 115.864, max = 127.499\n",
      "Suggestion = 114.57122222222223, max = 128.79177777777778\n",
      "for EURCHF :  min = 1.0810799999999998, max = 1.14762\n",
      "Suggestion = 1.0736866666666665, max = 1.1550133333333334\n",
      "for CHFJPY :  min = 105.986, max = 112.574\n",
      "Suggestion = 105.254, max = 113.306\n",
      "for USDCHF :  min = 0.96459, max = 1.0236299999999998\n",
      "Suggestion = 0.9580299999999999, max = 1.0301899999999997\n",
      "for USDCAD :  min = 1.29514, max = 1.36622\n",
      "Suggestion = 1.2872422222222222, max = 1.3741177777777778\n"
     ]
    }
   ],
   "source": [
    "for name in names:\n",
    "    df = pd.read_csv(f'donnee/{name}-2019.csv')\n",
    "    liste = []\n",
    "    for action in actions:\n",
    "        liste.append(df[action].max())\n",
    "        liste.append(df[action].min())\n",
    "    mini, maxi = min(liste), max(liste)\n",
    "    print(f'for {name} :  min = {mini}, max = {maxi}')\n",
    "    diff = (maxi-mini)*(1/0.90-1)\n",
    "    print(f'Suggestion = {mini-diff}, max = {maxi+diff}')"
   ]
  },
  {
   "cell_type": "code",
   "execution_count": 55,
   "metadata": {},
   "outputs": [
    {
     "name": "stdout",
     "output_type": "stream",
     "text": [
      "import EURUSD\n",
      "-04\n",
      "import EURJPY\n",
      "-05\n",
      "import EURCHF\n",
      "-04\n",
      "import CHFJPY\n",
      "-04\n",
      "import USDCHF\n",
      "-04\n",
      "import USDCAD\n",
      "-04\n"
     ]
    }
   ],
   "source": [
    "for i, name in enumerate(names):\n",
    "    print(f'import {name}')\n",
    "    df = pd.read_csv(f'donnee/{name}-2019.csv')\n",
    "    scaler = MinMaxScaler()\n",
    "    scaler.fit([[values[i][0]], [values[i][1]]])\n",
    "    \n",
    "    chiffre = chiffres[i]\n",
    "    a = scaler.transform([[values[i][0]], [values[i][0]+chiffre]])[1][0]\n",
    "    ch = \"%e\" % a\n",
    "    j = ch.find('e')\n",
    "    a3 = ch[j+1:]\n",
    "    \n",
    "    print(a3)\n",
    "    df[['Open', 'High', 'Low', 'Close']] = scaler.transform(df[['Open', 'High', 'Low', 'Close']])\n",
    "    df.to_csv(f'scaled/{name}-2019.csv', float_format=f'%.{str(1-int(a3))}f', index=False)"
   ]
  },
  {
   "cell_type": "code",
   "execution_count": 44,
   "metadata": {},
   "outputs": [
    {
     "data": {
      "text/plain": [
       "Date              2019.01.01\n",
       "Time                   17:02\n",
       "Open                0.776235\n",
       "High                0.776353\n",
       "Low                 0.776235\n",
       "Close               0.776235\n",
       "DateTime    2019.01.01-17:02\n",
       "Name: 0, dtype: object"
      ]
     },
     "execution_count": 44,
     "metadata": {},
     "output_type": "execute_result"
    }
   ],
   "source": [
    "df.loc[0]"
   ]
  },
  {
   "cell_type": "code",
   "execution_count": 29,
   "metadata": {},
   "outputs": [
    {
     "data": {
      "text/plain": [
       "'1.896757e+03'"
      ]
     },
     "execution_count": 29,
     "metadata": {},
     "output_type": "execute_result"
    }
   ],
   "source": [
    "a=1896.75694\n",
    "\"%e\" % a"
   ]
  },
  {
   "cell_type": "code",
   "execution_count": 18,
   "metadata": {},
   "outputs": [
    {
     "data": {
      "text/plain": [
       "Open     0.905294\n",
       "High     0.905529\n",
       "Low      0.904588\n",
       "Close    0.905412\n",
       "dtype: float64"
      ]
     },
     "execution_count": 18,
     "metadata": {},
     "output_type": "execute_result"
    }
   ],
   "source": [
    "df[['Open', 'High', 'Low', 'Close']].max()"
   ]
  }
 ],
 "metadata": {
  "kernelspec": {
   "display_name": "AlgoTrade3D",
   "language": "python",
   "name": "algotrade3d"
  },
  "language_info": {
   "codemirror_mode": {
    "name": "ipython",
    "version": 3
   },
   "file_extension": ".py",
   "mimetype": "text/x-python",
   "name": "python",
   "nbconvert_exporter": "python",
   "pygments_lexer": "ipython3",
   "version": "3.6.9"
  }
 },
 "nbformat": 4,
 "nbformat_minor": 4
}
