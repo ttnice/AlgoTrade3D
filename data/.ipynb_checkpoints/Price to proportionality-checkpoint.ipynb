{
 "cells": [
  {
   "cell_type": "code",
   "execution_count": 2,
   "metadata": {},
   "outputs": [],
   "source": [
    "from sklearn.preprocessing import MinMaxScaler\n",
    "import pandas as pd\n",
    "import numpy as np"
   ]
  },
  {
   "cell_type": "code",
   "execution_count": 3,
   "metadata": {},
   "outputs": [],
   "source": [
    "names = ['EURUSD', 'EURJPY', 'EURCHF', 'CHFJPY', 'USDCHF', 'USDCAD']\n",
    "values = [(1, 1.2), (115, 128), (1, 1.2), (105, 113), (0.9, 1.1), (1.2, 1.4)]\n",
    "actions = ['Open', 'High', 'Low', 'Close']"
   ]
  },
  {
   "cell_type": "code",
   "execution_count": 4,
   "metadata": {},
   "outputs": [
    {
     "name": "stdout",
     "output_type": "stream",
     "text": [
      "for EURUSD :  min = 1.0879, max = 1.15697\n",
      "for EURJPY :  min = 115.864, max = 127.499\n",
      "for EURCHF :  min = 1.0810799999999998, max = 1.14762\n",
      "for CHFJPY :  min = 105.986, max = 112.574\n",
      "for USDCHF :  min = 0.96459, max = 1.0236299999999998\n",
      "for USDCAD :  min = 1.29514, max = 1.36622\n"
     ]
    }
   ],
   "source": [
    "for name in names:\n",
    "    df = pd.read_csv(f'donnee/{name}-2019.csv', names=['Date', 'Time', 'Open', 'High', 'Low', 'Close', 'Bob'])\n",
    "    liste = []\n",
    "    for action in actions:\n",
    "        liste.append(df[action].max())\n",
    "        liste.append(df[action].min())\n",
    "    print(f'for {name} :  min = {min(liste)}, max = {max(liste)}')"
   ]
  },
  {
   "cell_type": "code",
   "execution_count": 52,
   "metadata": {},
   "outputs": [
    {
     "name": "stdout",
     "output_type": "stream",
     "text": [
      "0\n",
      "1.15695\n",
      "1.0880299999999998\n",
      "1.15697\n",
      "1.08812\n",
      "1.15689\n",
      "1.0879\n",
      "1.15696\n",
      "1.08804\n",
      "0.7847499999999998\n",
      "0.44014999999999915\n",
      "0.7848500000000005\n",
      "0.4405999999999999\n",
      "0.7844499999999996\n",
      "0.43950000000000067\n",
      "0.7847999999999997\n",
      "0.4401999999999999\n"
     ]
    }
   ],
   "source": [
    "for i, name in enumerate(names):\n",
    "    df = pd.read_csv(f'../AlgoTrade3D/data/donnee/{name}-2019.csv', names=['Date', 'Time', 'Open', 'High', 'Low', 'Close', 'Bob'])\n",
    "    liste = []\n",
    "    scaler = MinMaxScaler()\n",
    "    print(i)\n",
    "    scaler.fit([[values[i][0]], [values[i][1]]])\n",
    "    liste = []\n",
    "    for action in actions:\n",
    "        liste.append(df[action])\n",
    "        print(df[action].max())\n",
    "        print(df[action].min())\n",
    "    liste = scaler.transform(liste)\n",
    "    for i, action in enumerate(actions):\n",
    "        print(liste[i].max())\n",
    "        print(liste[i].min())\n",
    "    break"
   ]
  },
  {
   "cell_type": "code",
   "execution_count": 23,
   "metadata": {},
   "outputs": [
    {
     "data": {
      "text/plain": [
       "[<bound method Series.max of 0         1.36234\n",
       " 1         1.36207\n",
       " 2         1.36228\n",
       " 3         1.36228\n",
       " 4         1.36256\n",
       "            ...   \n",
       " 372300    1.29879\n",
       " 372301    1.29889\n",
       " 372302    1.29894\n",
       " 372303    1.29915\n",
       " 372304    1.29919\n",
       " Name: Open, Length: 372305, dtype: float64>,\n",
       " <bound method Series.min of 0         1.36234\n",
       " 1         1.36207\n",
       " 2         1.36228\n",
       " 3         1.36228\n",
       " 4         1.36256\n",
       "            ...   \n",
       " 372300    1.29879\n",
       " 372301    1.29889\n",
       " 372302    1.29894\n",
       " 372303    1.29915\n",
       " 372304    1.29919\n",
       " Name: Open, Length: 372305, dtype: float64>,\n",
       " <bound method Series.max of 0         1.36348\n",
       " 1         1.36229\n",
       " 2         1.36228\n",
       " 3         1.36256\n",
       " 4         1.36265\n",
       "            ...   \n",
       " 372300    1.29891\n",
       " 372301    1.29906\n",
       " 372302    1.29911\n",
       " 372303    1.29929\n",
       " 372304    1.29919\n",
       " Name: High, Length: 372305, dtype: float64>,\n",
       " <bound method Series.min of 0         1.36348\n",
       " 1         1.36229\n",
       " 2         1.36228\n",
       " 3         1.36256\n",
       " 4         1.36265\n",
       "            ...   \n",
       " 372300    1.29891\n",
       " 372301    1.29906\n",
       " 372302    1.29911\n",
       " 372303    1.29929\n",
       " 372304    1.29919\n",
       " Name: High, Length: 372305, dtype: float64>,\n",
       " <bound method Series.max of 0         1.36208\n",
       " 1         1.36207\n",
       " 2         1.36228\n",
       " 3         1.36220\n",
       " 4         1.36256\n",
       "            ...   \n",
       " 372300    1.29878\n",
       " 372301    1.29889\n",
       " 372302    1.29894\n",
       " 372303    1.29913\n",
       " 372304    1.29883\n",
       " Name: Low, Length: 372305, dtype: float64>,\n",
       " <bound method Series.min of 0         1.36208\n",
       " 1         1.36207\n",
       " 2         1.36228\n",
       " 3         1.36220\n",
       " 4         1.36256\n",
       "            ...   \n",
       " 372300    1.29878\n",
       " 372301    1.29889\n",
       " 372302    1.29894\n",
       " 372303    1.29913\n",
       " 372304    1.29883\n",
       " Name: Low, Length: 372305, dtype: float64>,\n",
       " <bound method Series.max of 0         1.36208\n",
       " 1         1.36228\n",
       " 2         1.36228\n",
       " 3         1.36256\n",
       " 4         1.36260\n",
       "            ...   \n",
       " 372300    1.29891\n",
       " 372301    1.29894\n",
       " 372302    1.29911\n",
       " 372303    1.29913\n",
       " 372304    1.29886\n",
       " Name: Close, Length: 372305, dtype: float64>,\n",
       " <bound method Series.min of 0         1.36208\n",
       " 1         1.36228\n",
       " 2         1.36228\n",
       " 3         1.36256\n",
       " 4         1.36260\n",
       "            ...   \n",
       " 372300    1.29891\n",
       " 372301    1.29894\n",
       " 372302    1.29911\n",
       " 372303    1.29913\n",
       " 372304    1.29886\n",
       " Name: Close, Length: 372305, dtype: float64>]"
      ]
     },
     "execution_count": 23,
     "metadata": {},
     "output_type": "execute_result"
    }
   ],
   "source": [
    "liste"
   ]
  }
 ],
 "metadata": {
  "kernelspec": {
   "display_name": "AlgoTrade3D",
   "language": "python",
   "name": "algotrade3d"
  },
  "language_info": {
   "codemirror_mode": {
    "name": "ipython",
    "version": 3
   },
   "file_extension": ".py",
   "mimetype": "text/x-python",
   "name": "python",
   "nbconvert_exporter": "python",
   "pygments_lexer": "ipython3",
   "version": "3.6.9"
  }
 },
 "nbformat": 4,
 "nbformat_minor": 4
}
