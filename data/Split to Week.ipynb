{
 "cells": [
  {
   "cell_type": "code",
   "execution_count": 28,
   "metadata": {},
   "outputs": [],
   "source": [
    "import pandas as pd\n",
    "import numpy as np\n",
    "from datetime import date\n",
    "from time import time\n",
    "import datetime as dt"
   ]
  },
  {
   "cell_type": "code",
   "execution_count": 2,
   "metadata": {},
   "outputs": [],
   "source": [
    "# fill nan and drop nan and drop incomplete week\n",
    "df = pd.read_csv(f'scaled/Merged_2019.csv')\n",
    "df = df.fillna(method='ffill').dropna()\n",
    "df.to_csv(f'scaled/Merged_2019.csv', float_format='%g', index=False)"
   ]
  },
  {
   "cell_type": "code",
   "execution_count": 33,
   "metadata": {},
   "outputs": [],
   "source": [
    "def function(row):\n",
    "    try:\n",
    "        return(pd.to_datetime(int(row.Date[:4]), int(row.Date[5:7]), int(row.Date[9:11]), int(row.Time[:2]), int(row.Time[3:5])))\n",
    "    except:\n",
    "        print(row)\n",
    "        return(pd.to_datetime(int(row.Date[:4]), int(row.Date[5:7]), int(row.Date[9:11]), int(row.Time[:2]), int(row.Time[3:5])))"
   ]
  },
  {
   "cell_type": "code",
   "execution_count": 69,
   "metadata": {},
   "outputs": [
    {
     "data": {
      "text/html": [
       "<div>\n",
       "<style scoped>\n",
       "    .dataframe tbody tr th:only-of-type {\n",
       "        vertical-align: middle;\n",
       "    }\n",
       "\n",
       "    .dataframe tbody tr th {\n",
       "        vertical-align: top;\n",
       "    }\n",
       "\n",
       "    .dataframe thead th {\n",
       "        text-align: right;\n",
       "    }\n",
       "</style>\n",
       "<table border=\"1\" class=\"dataframe\">\n",
       "  <thead>\n",
       "    <tr style=\"text-align: right;\">\n",
       "      <th></th>\n",
       "      <th>Date</th>\n",
       "      <th>Time</th>\n",
       "      <th>EURUSD-Open</th>\n",
       "      <th>EURUSD-High</th>\n",
       "      <th>EURUSD-Low</th>\n",
       "      <th>EURUSD-Close</th>\n",
       "      <th>EURJPY-Open</th>\n",
       "      <th>EURJPY-High</th>\n",
       "      <th>EURJPY-Low</th>\n",
       "      <th>EURJPY-Close</th>\n",
       "      <th>...</th>\n",
       "      <th>CHFJPY-Close</th>\n",
       "      <th>USDCHF-Open</th>\n",
       "      <th>USDCHF-High</th>\n",
       "      <th>USDCHF-Low</th>\n",
       "      <th>USDCHF-Close</th>\n",
       "      <th>USDCAD-Open</th>\n",
       "      <th>USDCAD-High</th>\n",
       "      <th>USDCAD-Low</th>\n",
       "      <th>USDCAD-Close</th>\n",
       "      <th>Timestamp</th>\n",
       "    </tr>\n",
       "  </thead>\n",
       "  <tbody>\n",
       "    <tr>\n",
       "      <th>0</th>\n",
       "      <td>2019.01.06</td>\n",
       "      <td>17:00</td>\n",
       "      <td>0.70059</td>\n",
       "      <td>0.70059</td>\n",
       "      <td>0.70059</td>\n",
       "      <td>0.70059</td>\n",
       "      <td>0.639718</td>\n",
       "      <td>0.641831</td>\n",
       "      <td>0.637113</td>\n",
       "      <td>0.637113</td>\n",
       "      <td>...</td>\n",
       "      <td>0.58662</td>\n",
       "      <td>0.37743</td>\n",
       "      <td>0.37743</td>\n",
       "      <td>0.37371</td>\n",
       "      <td>0.37371</td>\n",
       "      <td>0.57341</td>\n",
       "      <td>0.57341</td>\n",
       "      <td>0.57341</td>\n",
       "      <td>0.57341</td>\n",
       "      <td>2019-01-06</td>\n",
       "    </tr>\n",
       "    <tr>\n",
       "      <th>1</th>\n",
       "      <td>2019.01.06</td>\n",
       "      <td>17:01</td>\n",
       "      <td>0.70071</td>\n",
       "      <td>0.70071</td>\n",
       "      <td>0.70071</td>\n",
       "      <td>0.70071</td>\n",
       "      <td>0.638099</td>\n",
       "      <td>0.638239</td>\n",
       "      <td>0.636127</td>\n",
       "      <td>0.636901</td>\n",
       "      <td>...</td>\n",
       "      <td>0.58662</td>\n",
       "      <td>0.37743</td>\n",
       "      <td>0.37743</td>\n",
       "      <td>0.37371</td>\n",
       "      <td>0.37371</td>\n",
       "      <td>0.57466</td>\n",
       "      <td>0.57614</td>\n",
       "      <td>0.57466</td>\n",
       "      <td>0.57614</td>\n",
       "      <td>2019-01-06</td>\n",
       "    </tr>\n",
       "    <tr>\n",
       "      <th>2</th>\n",
       "      <td>2019.01.06</td>\n",
       "      <td>17:02</td>\n",
       "      <td>0.70071</td>\n",
       "      <td>0.70071</td>\n",
       "      <td>0.70071</td>\n",
       "      <td>0.70071</td>\n",
       "      <td>0.637606</td>\n",
       "      <td>0.639225</td>\n",
       "      <td>0.637606</td>\n",
       "      <td>0.639155</td>\n",
       "      <td>...</td>\n",
       "      <td>0.58662</td>\n",
       "      <td>0.37743</td>\n",
       "      <td>0.37743</td>\n",
       "      <td>0.37371</td>\n",
       "      <td>0.37371</td>\n",
       "      <td>0.57648</td>\n",
       "      <td>0.57648</td>\n",
       "      <td>0.57648</td>\n",
       "      <td>0.57648</td>\n",
       "      <td>2019-01-06</td>\n",
       "    </tr>\n",
       "    <tr>\n",
       "      <th>3</th>\n",
       "      <td>2019.01.06</td>\n",
       "      <td>17:03</td>\n",
       "      <td>0.70188</td>\n",
       "      <td>0.70188</td>\n",
       "      <td>0.70059</td>\n",
       "      <td>0.70059</td>\n",
       "      <td>0.639789</td>\n",
       "      <td>0.639789</td>\n",
       "      <td>0.636479</td>\n",
       "      <td>0.636479</td>\n",
       "      <td>...</td>\n",
       "      <td>0.58662</td>\n",
       "      <td>0.37743</td>\n",
       "      <td>0.37743</td>\n",
       "      <td>0.37371</td>\n",
       "      <td>0.37371</td>\n",
       "      <td>0.57534</td>\n",
       "      <td>0.57670</td>\n",
       "      <td>0.57534</td>\n",
       "      <td>0.57659</td>\n",
       "      <td>2019-01-06</td>\n",
       "    </tr>\n",
       "    <tr>\n",
       "      <th>4</th>\n",
       "      <td>2019.01.06</td>\n",
       "      <td>17:04</td>\n",
       "      <td>0.70071</td>\n",
       "      <td>0.70071</td>\n",
       "      <td>0.70047</td>\n",
       "      <td>0.70047</td>\n",
       "      <td>0.636479</td>\n",
       "      <td>0.636479</td>\n",
       "      <td>0.636479</td>\n",
       "      <td>0.636479</td>\n",
       "      <td>...</td>\n",
       "      <td>0.58662</td>\n",
       "      <td>0.37743</td>\n",
       "      <td>0.37743</td>\n",
       "      <td>0.37371</td>\n",
       "      <td>0.37371</td>\n",
       "      <td>0.57648</td>\n",
       "      <td>0.57648</td>\n",
       "      <td>0.57648</td>\n",
       "      <td>0.57648</td>\n",
       "      <td>2019-01-06</td>\n",
       "    </tr>\n",
       "  </tbody>\n",
       "</table>\n",
       "<p>5 rows × 27 columns</p>\n",
       "</div>"
      ],
      "text/plain": [
       "         Date   Time  EURUSD-Open  EURUSD-High  EURUSD-Low  EURUSD-Close  \\\n",
       "0  2019.01.06  17:00      0.70059      0.70059     0.70059       0.70059   \n",
       "1  2019.01.06  17:01      0.70071      0.70071     0.70071       0.70071   \n",
       "2  2019.01.06  17:02      0.70071      0.70071     0.70071       0.70071   \n",
       "3  2019.01.06  17:03      0.70188      0.70188     0.70059       0.70059   \n",
       "4  2019.01.06  17:04      0.70071      0.70071     0.70047       0.70047   \n",
       "\n",
       "   EURJPY-Open  EURJPY-High  EURJPY-Low  EURJPY-Close  ...  CHFJPY-Close  \\\n",
       "0     0.639718     0.641831    0.637113      0.637113  ...       0.58662   \n",
       "1     0.638099     0.638239    0.636127      0.636901  ...       0.58662   \n",
       "2     0.637606     0.639225    0.637606      0.639155  ...       0.58662   \n",
       "3     0.639789     0.639789    0.636479      0.636479  ...       0.58662   \n",
       "4     0.636479     0.636479    0.636479      0.636479  ...       0.58662   \n",
       "\n",
       "   USDCHF-Open  USDCHF-High  USDCHF-Low  USDCHF-Close  USDCAD-Open  \\\n",
       "0      0.37743      0.37743     0.37371       0.37371      0.57341   \n",
       "1      0.37743      0.37743     0.37371       0.37371      0.57466   \n",
       "2      0.37743      0.37743     0.37371       0.37371      0.57648   \n",
       "3      0.37743      0.37743     0.37371       0.37371      0.57534   \n",
       "4      0.37743      0.37743     0.37371       0.37371      0.57648   \n",
       "\n",
       "   USDCAD-High  USDCAD-Low  USDCAD-Close   Timestamp  \n",
       "0      0.57341     0.57341       0.57341  2019-01-06  \n",
       "1      0.57614     0.57466       0.57614  2019-01-06  \n",
       "2      0.57648     0.57648       0.57648  2019-01-06  \n",
       "3      0.57670     0.57534       0.57659  2019-01-06  \n",
       "4      0.57648     0.57648       0.57648  2019-01-06  \n",
       "\n",
       "[5 rows x 27 columns]"
      ]
     },
     "execution_count": 69,
     "metadata": {},
     "output_type": "execute_result"
    }
   ],
   "source": [
    "# create timestamp\n",
    "# df = pd.read_csv(f'scaled/Merged_2019.csv')\n",
    "len(df)\n",
    "# returns datetime objects\n",
    "#  dt.datetime(int(row.Date[:4]), int(row.Date[5:7]), int(row.Date[9:11]), int(row.Time[:2]), int(row.Time[3:5])), axis=1\n",
    "# year, month, day, hour, minute =    int(row.Date[:4]), int(row.Date[5:7]), int(row.Date[9:11]), int(row.Time[:2]), int(row.Time[3:5])\n",
    "# df['Timestamp'] = df.apply(lambda row: pd.Timestamp(f'{str(row.Date[:4])}-{str(row.Date[5:7])}-{str(row.Date[8:10])} {str(row.Time[:2])}:{str(row.Time[3:5])}:00'), axis=1)\n",
    "df['Timestamp'] = df.apply(lambda row: row.Timestamp.date(), axis=1)\n",
    "\n",
    "df.head()"
   ]
  },
  {
   "cell_type": "code",
   "execution_count": 75,
   "metadata": {},
   "outputs": [
    {
     "data": {
      "text/plain": [
       "Date            2019.01.18\n",
       "Time                 16:53\n",
       "EURUSD-Open        0.66412\n",
       "EURUSD-High        0.66435\n",
       "EURUSD-Low           0.664\n",
       "EURUSD-Close       0.66424\n",
       "EURJPY-Open       0.712113\n",
       "EURJPY-High       0.712394\n",
       "EURJPY-Low        0.711972\n",
       "EURJPY-Close      0.712394\n",
       "EURCHF-Open        0.68156\n",
       "EURCHF-High        0.68167\n",
       "EURCHF-Low         0.68133\n",
       "EURCHF-Close       0.68156\n",
       "CHFJPY-Open        0.61325\n",
       "CHFJPY-High        0.61375\n",
       "CHFJPY-Low         0.61313\n",
       "CHFJPY-Close       0.61375\n",
       "USDCHF-Open        0.50729\n",
       "USDCHF-High        0.50729\n",
       "USDCHF-Low         0.50729\n",
       "USDCHF-Close       0.50729\n",
       "USDCAD-Open        0.44977\n",
       "USDCAD-High        0.44977\n",
       "USDCAD-Low          0.4492\n",
       "USDCAD-Close       0.44966\n",
       "Name: 14389, dtype: object"
      ]
     },
     "execution_count": 75,
     "metadata": {},
     "output_type": "execute_result"
    }
   ],
   "source": [
    "df = pd.read_csv(f'scaled/Merged_2019.csv')\n",
    "week = 1\n",
    "date = [0, 31, 28, 31, 30, 31, 30, 31, 31, 30, 31, 30, 31]\n",
    "for idx,row in enumerate()\n",
    "df.loc[7189+7200]"
   ]
  },
  {
   "cell_type": "code",
   "execution_count": 70,
   "metadata": {},
   "outputs": [
    {
     "ename": "TypeError",
     "evalue": "Only valid with DatetimeIndex, TimedeltaIndex or PeriodIndex, but got an instance of 'Index'",
     "output_type": "error",
     "traceback": [
      "\u001b[0;31m---------------------------------------------------------------------------\u001b[0m",
      "\u001b[0;31mTypeError\u001b[0m                                 Traceback (most recent call last)",
      "\u001b[0;32m<ipython-input-70-579e1661e667>\u001b[0m in \u001b[0;36m<module>\u001b[0;34m\u001b[0m\n\u001b[0;32m----> 1\u001b[0;31m \u001b[0mweeks\u001b[0m \u001b[0;34m=\u001b[0m \u001b[0mdf\u001b[0m\u001b[0;34m.\u001b[0m\u001b[0mgroupby\u001b[0m\u001b[0;34m(\u001b[0m\u001b[0mpd\u001b[0m\u001b[0;34m.\u001b[0m\u001b[0mGrouper\u001b[0m\u001b[0;34m(\u001b[0m\u001b[0mkey\u001b[0m\u001b[0;34m=\u001b[0m\u001b[0;34m'Timestamp'\u001b[0m\u001b[0;34m,\u001b[0m\u001b[0mfreq\u001b[0m\u001b[0;34m=\u001b[0m\u001b[0;34m'W'\u001b[0m\u001b[0;34m)\u001b[0m\u001b[0;34m)\u001b[0m\u001b[0;34m\u001b[0m\u001b[0;34m\u001b[0m\u001b[0m\n\u001b[0m",
      "\u001b[0;32m~/.local/lib/python3.6/site-packages/pandas/core/frame.py\u001b[0m in \u001b[0;36mgroupby\u001b[0;34m(self, by, axis, level, as_index, sort, group_keys, squeeze, observed)\u001b[0m\n\u001b[1;32m   5808\u001b[0m             \u001b[0mgroup_keys\u001b[0m\u001b[0;34m=\u001b[0m\u001b[0mgroup_keys\u001b[0m\u001b[0;34m,\u001b[0m\u001b[0;34m\u001b[0m\u001b[0;34m\u001b[0m\u001b[0m\n\u001b[1;32m   5809\u001b[0m             \u001b[0msqueeze\u001b[0m\u001b[0;34m=\u001b[0m\u001b[0msqueeze\u001b[0m\u001b[0;34m,\u001b[0m\u001b[0;34m\u001b[0m\u001b[0;34m\u001b[0m\u001b[0m\n\u001b[0;32m-> 5810\u001b[0;31m             \u001b[0mobserved\u001b[0m\u001b[0;34m=\u001b[0m\u001b[0mobserved\u001b[0m\u001b[0;34m,\u001b[0m\u001b[0;34m\u001b[0m\u001b[0;34m\u001b[0m\u001b[0m\n\u001b[0m\u001b[1;32m   5811\u001b[0m         )\n\u001b[1;32m   5812\u001b[0m \u001b[0;34m\u001b[0m\u001b[0m\n",
      "\u001b[0;32m~/.local/lib/python3.6/site-packages/pandas/core/groupby/groupby.py\u001b[0m in \u001b[0;36m__init__\u001b[0;34m(self, obj, keys, axis, level, grouper, exclusions, selection, as_index, sort, group_keys, squeeze, observed, mutated)\u001b[0m\n\u001b[1;32m    407\u001b[0m                 \u001b[0msort\u001b[0m\u001b[0;34m=\u001b[0m\u001b[0msort\u001b[0m\u001b[0;34m,\u001b[0m\u001b[0;34m\u001b[0m\u001b[0;34m\u001b[0m\u001b[0m\n\u001b[1;32m    408\u001b[0m                 \u001b[0mobserved\u001b[0m\u001b[0;34m=\u001b[0m\u001b[0mobserved\u001b[0m\u001b[0;34m,\u001b[0m\u001b[0;34m\u001b[0m\u001b[0;34m\u001b[0m\u001b[0m\n\u001b[0;32m--> 409\u001b[0;31m                 \u001b[0mmutated\u001b[0m\u001b[0;34m=\u001b[0m\u001b[0mself\u001b[0m\u001b[0;34m.\u001b[0m\u001b[0mmutated\u001b[0m\u001b[0;34m,\u001b[0m\u001b[0;34m\u001b[0m\u001b[0;34m\u001b[0m\u001b[0m\n\u001b[0m\u001b[1;32m    410\u001b[0m             )\n\u001b[1;32m    411\u001b[0m \u001b[0;34m\u001b[0m\u001b[0m\n",
      "\u001b[0;32m~/.local/lib/python3.6/site-packages/pandas/core/groupby/grouper.py\u001b[0m in \u001b[0;36mget_grouper\u001b[0;34m(obj, key, axis, level, sort, observed, mutated, validate)\u001b[0m\n\u001b[1;32m    507\u001b[0m     \u001b[0;31m# a passed-in Grouper, directly convert\u001b[0m\u001b[0;34m\u001b[0m\u001b[0;34m\u001b[0m\u001b[0;34m\u001b[0m\u001b[0m\n\u001b[1;32m    508\u001b[0m     \u001b[0;32mif\u001b[0m \u001b[0misinstance\u001b[0m\u001b[0;34m(\u001b[0m\u001b[0mkey\u001b[0m\u001b[0;34m,\u001b[0m \u001b[0mGrouper\u001b[0m\u001b[0;34m)\u001b[0m\u001b[0;34m:\u001b[0m\u001b[0;34m\u001b[0m\u001b[0;34m\u001b[0m\u001b[0m\n\u001b[0;32m--> 509\u001b[0;31m         \u001b[0mbinner\u001b[0m\u001b[0;34m,\u001b[0m \u001b[0mgrouper\u001b[0m\u001b[0;34m,\u001b[0m \u001b[0mobj\u001b[0m \u001b[0;34m=\u001b[0m \u001b[0mkey\u001b[0m\u001b[0;34m.\u001b[0m\u001b[0m_get_grouper\u001b[0m\u001b[0;34m(\u001b[0m\u001b[0mobj\u001b[0m\u001b[0;34m,\u001b[0m \u001b[0mvalidate\u001b[0m\u001b[0;34m=\u001b[0m\u001b[0;32mFalse\u001b[0m\u001b[0;34m)\u001b[0m\u001b[0;34m\u001b[0m\u001b[0;34m\u001b[0m\u001b[0m\n\u001b[0m\u001b[1;32m    510\u001b[0m         \u001b[0;32mif\u001b[0m \u001b[0mkey\u001b[0m\u001b[0;34m.\u001b[0m\u001b[0mkey\u001b[0m \u001b[0;32mis\u001b[0m \u001b[0;32mNone\u001b[0m\u001b[0;34m:\u001b[0m\u001b[0;34m\u001b[0m\u001b[0;34m\u001b[0m\u001b[0m\n\u001b[1;32m    511\u001b[0m             \u001b[0;32mreturn\u001b[0m \u001b[0mgrouper\u001b[0m\u001b[0;34m,\u001b[0m \u001b[0;34m[\u001b[0m\u001b[0;34m]\u001b[0m\u001b[0;34m,\u001b[0m \u001b[0mobj\u001b[0m\u001b[0;34m\u001b[0m\u001b[0;34m\u001b[0m\u001b[0m\n",
      "\u001b[0;32m~/.local/lib/python3.6/site-packages/pandas/core/resample.py\u001b[0m in \u001b[0;36m_get_grouper\u001b[0;34m(self, obj, validate)\u001b[0m\n\u001b[1;32m   1409\u001b[0m     \u001b[0;32mdef\u001b[0m \u001b[0m_get_grouper\u001b[0m\u001b[0;34m(\u001b[0m\u001b[0mself\u001b[0m\u001b[0;34m,\u001b[0m \u001b[0mobj\u001b[0m\u001b[0;34m,\u001b[0m \u001b[0mvalidate\u001b[0m\u001b[0;34m:\u001b[0m \u001b[0mbool\u001b[0m \u001b[0;34m=\u001b[0m \u001b[0;32mTrue\u001b[0m\u001b[0;34m)\u001b[0m\u001b[0;34m:\u001b[0m\u001b[0;34m\u001b[0m\u001b[0;34m\u001b[0m\u001b[0m\n\u001b[1;32m   1410\u001b[0m         \u001b[0;31m# create the resampler and return our binner\u001b[0m\u001b[0;34m\u001b[0m\u001b[0;34m\u001b[0m\u001b[0;34m\u001b[0m\u001b[0m\n\u001b[0;32m-> 1411\u001b[0;31m         \u001b[0mr\u001b[0m \u001b[0;34m=\u001b[0m \u001b[0mself\u001b[0m\u001b[0;34m.\u001b[0m\u001b[0m_get_resampler\u001b[0m\u001b[0;34m(\u001b[0m\u001b[0mobj\u001b[0m\u001b[0;34m)\u001b[0m\u001b[0;34m\u001b[0m\u001b[0;34m\u001b[0m\u001b[0m\n\u001b[0m\u001b[1;32m   1412\u001b[0m         \u001b[0mr\u001b[0m\u001b[0;34m.\u001b[0m\u001b[0m_set_binner\u001b[0m\u001b[0;34m(\u001b[0m\u001b[0;34m)\u001b[0m\u001b[0;34m\u001b[0m\u001b[0;34m\u001b[0m\u001b[0m\n\u001b[1;32m   1413\u001b[0m         \u001b[0;32mreturn\u001b[0m \u001b[0mr\u001b[0m\u001b[0;34m.\u001b[0m\u001b[0mbinner\u001b[0m\u001b[0;34m,\u001b[0m \u001b[0mr\u001b[0m\u001b[0;34m.\u001b[0m\u001b[0mgrouper\u001b[0m\u001b[0;34m,\u001b[0m \u001b[0mr\u001b[0m\u001b[0;34m.\u001b[0m\u001b[0mobj\u001b[0m\u001b[0;34m\u001b[0m\u001b[0;34m\u001b[0m\u001b[0m\n",
      "\u001b[0;32m~/.local/lib/python3.6/site-packages/pandas/core/resample.py\u001b[0m in \u001b[0;36m_get_resampler\u001b[0;34m(self, obj, kind)\u001b[0m\n\u001b[1;32m   1402\u001b[0m \u001b[0;34m\u001b[0m\u001b[0m\n\u001b[1;32m   1403\u001b[0m         raise TypeError(\n\u001b[0;32m-> 1404\u001b[0;31m             \u001b[0;34m\"Only valid with DatetimeIndex, \"\u001b[0m\u001b[0;34m\u001b[0m\u001b[0;34m\u001b[0m\u001b[0m\n\u001b[0m\u001b[1;32m   1405\u001b[0m             \u001b[0;34m\"TimedeltaIndex or PeriodIndex, \"\u001b[0m\u001b[0;34m\u001b[0m\u001b[0;34m\u001b[0m\u001b[0m\n\u001b[1;32m   1406\u001b[0m             \u001b[0;34mf\"but got an instance of '{type(ax).__name__}'\"\u001b[0m\u001b[0;34m\u001b[0m\u001b[0;34m\u001b[0m\u001b[0m\n",
      "\u001b[0;31mTypeError\u001b[0m: Only valid with DatetimeIndex, TimedeltaIndex or PeriodIndex, but got an instance of 'Index'"
     ]
    }
   ],
   "source": [
    "\n",
    "weeks = df.groupby(pd.Grouper(key='Timestamp',freq='W'))"
   ]
  },
  {
   "cell_type": "code",
   "execution_count": 60,
   "metadata": {},
   "outputs": [],
   "source": [
    "ts = pd.DatetimeIndex([df.Timestamp])"
   ]
  },
  {
   "cell_type": "code",
   "execution_count": 61,
   "metadata": {},
   "outputs": [],
   "source": [
    "t = pd.Timestamp('2013-12-25 00:00:00')"
   ]
  },
  {
   "cell_type": "code",
   "execution_count": 62,
   "metadata": {},
   "outputs": [
    {
     "data": {
      "text/plain": [
       "datetime.date(2013, 12, 25)"
      ]
     },
     "execution_count": 62,
     "metadata": {},
     "output_type": "execute_result"
    }
   ],
   "source": [
    "t.date()"
   ]
  },
  {
   "cell_type": "code",
   "execution_count": 63,
   "metadata": {},
   "outputs": [
    {
     "data": {
      "text/plain": [
       "Timestamp('2013-12-25 00:00:00')"
      ]
     },
     "execution_count": 63,
     "metadata": {},
     "output_type": "execute_result"
    }
   ],
   "source": [
    "t"
   ]
  },
  {
   "cell_type": "code",
   "execution_count": 66,
   "metadata": {},
   "outputs": [
    {
     "data": {
      "text/plain": [
       "datetime.date(2019, 1, 6)"
      ]
     },
     "execution_count": 66,
     "metadata": {},
     "output_type": "execute_result"
    }
   ],
   "source": [
    "df.Timestamp[0].date()"
   ]
  }
 ],
 "metadata": {
  "kernelspec": {
   "display_name": "AlgoTrade3D",
   "language": "python",
   "name": "algotrade3d"
  },
  "language_info": {
   "codemirror_mode": {
    "name": "ipython",
    "version": 3
   },
   "file_extension": ".py",
   "mimetype": "text/x-python",
   "name": "python",
   "nbconvert_exporter": "python",
   "pygments_lexer": "ipython3",
   "version": "3.6.9"
  }
 },
 "nbformat": 4,
 "nbformat_minor": 4
}
