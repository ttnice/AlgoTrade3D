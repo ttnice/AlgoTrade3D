{
 "cells": [
  {
   "cell_type": "code",
   "execution_count": 28,
   "metadata": {},
   "outputs": [],
   "source": [
    "import pandas as pd\n",
    "import numpy as np\n",
    "from datetime import date\n",
    "from time import time\n",
    "import datetime as dt"
   ]
  },
  {
   "cell_type": "code",
   "execution_count": 2,
   "metadata": {},
   "outputs": [],
   "source": [
    "# fill nan and drop nan and drop incomplete week\n",
    "df = pd.read_csv(f'scaled/Merged_2019.csv')\n",
    "df = df.fillna(method='ffill').dropna()\n",
    "df.to_csv(f'scaled/Merged_2019.csv', float_format='%g', index=False)"
   ]
  },
  {
   "cell_type": "code",
   "execution_count": 33,
   "metadata": {},
   "outputs": [],
   "source": [
    "def function(row):\n",
    "    try:\n",
    "        return(pd.to_datetime(int(row.Date[:4]), int(row.Date[5:7]), int(row.Date[9:11]), int(row.Time[:2]), int(row.Time[3:5])))\n",
    "    except:\n",
    "        print(row)\n",
    "        return(pd.to_datetime(int(row.Date[:4]), int(row.Date[5:7]), int(row.Date[9:11]), int(row.Time[:2]), int(row.Time[3:5])))"
   ]
  },
  {
   "cell_type": "code",
   "execution_count": 35,
   "metadata": {},
   "outputs": [
    {
     "data": {
      "text/plain": [
       "'2017-02-24 00:00:00'"
      ]
     },
     "execution_count": 35,
     "metadata": {},
     "output_type": "execute_result"
    }
   ],
   "source": [
    "# create timestamp\n",
    "df = pd.read_csv(f'scaled/Merged_2019.csv')\n",
    "len(df)\n",
    "# returns datetime objects\n",
    "#  dt.datetime(int(row.Date[:4]), int(row.Date[5:7]), int(row.Date[9:11]), int(row.Time[:2]), int(row.Time[3:5])), axis=1\n",
    "# year, month, day, hour, minute =    int(row.Date[:4]), int(row.Date[5:7]), int(row.Date[9:11]), int(row.Time[:2]), int(row.Time[3:5])\n",
    "df['Timestamp'] = df.apply(lambda row: f'{row.Date[:4]}-{row.Date[5:7]}-{row.Date[9:11]} {row.Time[:2]}:{row.Time[3:5]}:00', axis=1)\n",
    "\n",
    "'2017-02-24 00:00:00'"
   ]
  },
  {
   "cell_type": "code",
   "execution_count": 9,
   "metadata": {},
   "outputs": [],
   "source": [
    "df"
   ]
  },
  {
   "cell_type": "code",
   "execution_count": 15,
   "metadata": {},
   "outputs": [],
   "source": []
  },
  {
   "cell_type": "code",
   "execution_count": 17,
   "metadata": {},
   "outputs": [
    {
     "data": {
      "text/plain": [
       "'01'"
      ]
     },
     "execution_count": 17,
     "metadata": {},
     "output_type": "execute_result"
    }
   ],
   "source": []
  }
 ],
 "metadata": {
  "kernelspec": {
   "display_name": "AlgoTrade3D",
   "language": "python",
   "name": "algotrade3d"
  },
  "language_info": {
   "codemirror_mode": {
    "name": "ipython",
    "version": 3
   },
   "file_extension": ".py",
   "mimetype": "text/x-python",
   "name": "python",
   "nbconvert_exporter": "python",
   "pygments_lexer": "ipython3",
   "version": "3.6.9"
  }
 },
 "nbformat": 4,
 "nbformat_minor": 4
}
